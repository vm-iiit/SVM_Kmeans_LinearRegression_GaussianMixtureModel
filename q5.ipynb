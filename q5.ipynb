{
 "cells": [
  {
   "cell_type": "code",
   "execution_count": 3,
   "metadata": {
    "colab": {},
    "colab_type": "code",
    "id": "E035kiIi92Cw"
   },
   "outputs": [],
   "source": [
    "from sklearn.feature_extraction.text import TfidfVectorizer\n",
    "from sklearn.model_selection import train_test_split\n",
    "from sklearn.svm import SVC\n",
    "from sklearn.svm import LinearSVC\n",
    "from sklearn.linear_model import SGDClassifier\n",
    "from sklearn.metrics import accuracy_score\n",
    "from sklearn.metrics import classification_report\n",
    "import pandas as pd\n",
    "import numpy as np"
   ]
  },
  {
   "cell_type": "markdown",
   "metadata": {},
   "source": [
    "### LinearSVC with TfIdf vectorizer"
   ]
  },
  {
   "cell_type": "code",
   "execution_count": 5,
   "metadata": {
    "colab": {
     "base_uri": "https://localhost:8080/",
     "height": 51
    },
    "colab_type": "code",
    "id": "kfOjswx2-xVX",
    "outputId": "d896bd51-7d36-4245-da58-e216423855c0"
   },
   "outputs": [
    {
     "name": "stdout",
     "output_type": "stream",
     "text": [
      "              precision    recall  f1-score   support\n",
      "\n",
      "         EAP       0.83      0.83      0.83      1602\n",
      "         HPL       0.85      0.81      0.83      1120\n",
      "         MWS       0.80      0.84      0.82      1194\n",
      "\n",
      "    accuracy                           0.83      3916\n",
      "   macro avg       0.83      0.83      0.83      3916\n",
      "weighted avg       0.83      0.83      0.83      3916\n",
      "\n"
     ]
    }
   ],
   "source": [
    "class  AuthorClassifier:\n",
    "\n",
    "    def __init__(self):\n",
    "        self.vectorizer = TfidfVectorizer(strip_accents='ascii', ngram_range=(1,2), norm='l2', sublinear_tf=True)\n",
    "        self.classifier = LinearSVC(multi_class='ovr', max_iter=1500)\n",
    "        self.x_test = []\n",
    "        self.y_test = []\n",
    "\n",
    "    def train(self, trainpath):\n",
    "        df = pd.read_csv(trainpath, index_col=0)\n",
    "        arr = df.to_numpy().reshape((-1,2))\n",
    "        x_train, self.x_test, y_train, self.y_test = train_test_split(arr[:,0], arr[:,-1], train_size=.75)\n",
    "        x_train = self.vectorizer.fit_transform(x_train)\n",
    "#         print(x_train.shape)\n",
    "        self.classifier.fit(x_train, y_train)\n",
    "        # print(\"trained\")\n",
    "        \n",
    "    def predict(self, testpath):\n",
    "        # df = pd.read_csv(testpath, index_col=0)\n",
    "        # arr = df.to_numpy().reshape((-1,2))\n",
    "        # x_test = arr[:,0]\n",
    "        # y_test = arr[:,-1]\n",
    "        self.x_test = self.vectorizer.transform(self.x_test)\n",
    "        pl = self.classifier.predict(self.x_test)\n",
    "        print(classification_report(self.y_test,pl,zero_division=1))\n",
    "\n",
    "auth_classifier = AuthorClassifier()\n",
    "auth_classifier.train('./Datasets/Question-5/Train.csv')\n",
    "auth_classifier.predict(\"\")"
   ]
  },
  {
   "cell_type": "markdown",
   "metadata": {},
   "source": [
    "^ Classification report for Linear SVC"
   ]
  },
  {
   "cell_type": "markdown",
   "metadata": {},
   "source": [
    "### SGD classifier with TfIdf vectorizer"
   ]
  },
  {
   "cell_type": "code",
   "execution_count": 9,
   "metadata": {
    "colab": {
     "base_uri": "https://localhost:8080/",
     "height": 51
    },
    "colab_type": "code",
    "id": "2B9mRzu59WL6",
    "outputId": "eff25601-8c3d-4a16-a487-d26df5191cae"
   },
   "outputs": [
    {
     "name": "stdout",
     "output_type": "stream",
     "text": [
      "              precision    recall  f1-score   support\n",
      "\n",
      "         EAP       0.42      1.00      0.59      1651\n",
      "         HPL       1.00      0.00      0.00      1067\n",
      "         MWS       1.00      0.00      0.00      1198\n",
      "\n",
      "    accuracy                           0.42      3916\n",
      "   macro avg       0.81      0.33      0.20      3916\n",
      "weighted avg       0.76      0.42      0.25      3916\n",
      "\n"
     ]
    }
   ],
   "source": [
    "class  AuthorClassifier2:\n",
    "\n",
    "    def __init__(self):\n",
    "        self.vectorizer = TfidfVectorizer()\n",
    "        self.classifier = SGDClassifier(alpha=10)\n",
    "        self.x_test = []\n",
    "        self.y_test = []\n",
    "\n",
    "    def train(self, trainpath):\n",
    "        df = pd.read_csv(trainpath, index_col=0)\n",
    "        arr = df.to_numpy().reshape((-1,2))\n",
    "        x_train, self.x_test, y_train, self.y_test = train_test_split(arr[:,0], arr[:,-1], train_size=.75)\n",
    "        x_train = self.vectorizer.fit_transform(x_train)\n",
    "#         print(x_train.shape)\n",
    "        self.classifier.fit(x_train, y_train)\n",
    "        # print(\"trained\")\n",
    "        \n",
    "    def predict(self, testpath):\n",
    "        # df = pd.read_csv(testpath, index_col=0)\n",
    "        # arr = df.to_numpy().reshape((-1,2))\n",
    "        # x_test = arr[:,0]\n",
    "        # y_test = arr[:,-1]\n",
    "        self.x_test = self.vectorizer.transform(self.x_test)\n",
    "        pl = self.classifier.predict(self.x_test)\n",
    "        print(classification_report(self.y_test,pl,zero_division=1))\n",
    "\n",
    "auth_classifier = AuthorClassifier2()\n",
    "auth_classifier.train('./Datasets/Question-5/Train.csv')\n",
    "auth_classifier.predict(\"\")\n"
   ]
  },
  {
   "cell_type": "markdown",
   "metadata": {},
   "source": [
    "^ Classification report for SGD classifier"
   ]
  }
 ],
 "metadata": {
  "accelerator": "GPU",
  "colab": {
   "collapsed_sections": [],
   "machine_shape": "hm",
   "name": "q5.ipynb",
   "provenance": []
  },
  "kernelspec": {
   "display_name": "Python 3",
   "language": "python",
   "name": "python3"
  },
  "language_info": {
   "codemirror_mode": {
    "name": "ipython",
    "version": 3
   },
   "file_extension": ".py",
   "mimetype": "text/x-python",
   "name": "python",
   "nbconvert_exporter": "python",
   "pygments_lexer": "ipython3",
   "version": "3.7.5"
  }
 },
 "nbformat": 4,
 "nbformat_minor": 1
}
