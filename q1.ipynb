{
 "cells": [
  {
   "cell_type": "markdown",
   "metadata": {},
   "source": [
    "## Importing libraries"
   ]
  },
  {
   "cell_type": "code",
   "execution_count": 1,
   "metadata": {
    "colab": {
     "base_uri": "https://localhost:8080/",
     "height": 122
    },
    "colab_type": "code",
    "id": "40hV-kANjpwb",
    "outputId": "16deb0ee-f29f-4271-baba-7ce43f9eb1ae"
   },
   "outputs": [],
   "source": [
    "import pickle\n",
    "import numpy as np\n",
    "from sklearn.linear_model import SGDClassifier\n",
    "from sklearn.svm import LinearSVC\n",
    "from sklearn.svm import SVC\n",
    "from sklearn.metrics import accuracy_score\n",
    "from sklearn.decomposition import PCA\n",
    "import matplotlib.pyplot as plt\n",
    "from sklearn.metrics import classification_report\n",
    "from sklearn.model_selection import train_test_split\n",
    "import matplotlib.pyplot"
   ]
  },
  {
   "cell_type": "code",
   "execution_count": 2,
   "metadata": {
    "colab": {},
    "colab_type": "code",
    "id": "5ChC9-lPl8LT"
   },
   "outputs": [],
   "source": [
    "def unpickle(file):\n",
    "    with open(file, 'rb') as fo:\n",
    "        dict = pickle.load(fo, encoding='bytes')\n",
    "    return dict"
   ]
  },
  {
   "cell_type": "markdown",
   "metadata": {},
   "source": [
    "### Load training data"
   ]
  },
  {
   "cell_type": "code",
   "execution_count": 3,
   "metadata": {
    "colab": {},
    "colab_type": "code",
    "id": "Jxt6axMZq8yP"
   },
   "outputs": [],
   "source": [
    "train_files = [\"data_batch_1\", \"data_batch_2\", \"data_batch_3\", \"data_batch_4\", \"data_batch_5\"]\n",
    "train_dicts = [0]*5\n",
    "Y_train = []\n",
    "for ind in range(len(train_dicts)):\n",
    "    train_dicts[ind] = unpickle(\"./Datasets/Question-1/cifar-10-python/cifar-10-batches-py/\"+train_files[ind])\n",
    "X_train= np.empty((0,3072))\n",
    "for ind in range(len(train_dicts)):\n",
    "    X_train = np.vstack((X_train, train_dicts[ind][b'data']))\n",
    "    Y_train.extend(train_dicts[ind][b'labels'])"
   ]
  },
  {
   "cell_type": "markdown",
   "metadata": {},
   "source": [
    "### Load testing data"
   ]
  },
  {
   "cell_type": "code",
   "execution_count": 4,
   "metadata": {
    "colab": {},
    "colab_type": "code",
    "id": "m4sql0PMw8pM"
   },
   "outputs": [],
   "source": [
    "test_dict = unpickle(\"./Datasets/Question-1/cifar-10-python/cifar-10-batches-py/test_batch\")\n",
    "X_test = test_dict[b'data']\n",
    "Y_test = test_dict[b'labels']"
   ]
  },
  {
   "cell_type": "code",
   "execution_count": 51,
   "metadata": {},
   "outputs": [],
   "source": [
    "X_train, _ , Y_train, _ = train_test_split(X_train, Y_train, train_size=.6)\n",
    "Orig_img = X_train.copy()"
   ]
  },
  {
   "cell_type": "markdown",
   "metadata": {},
   "source": [
    "# Principal component analysis for dimensionality reduction"
   ]
  },
  {
   "cell_type": "markdown",
   "metadata": {},
   "source": [
    "## Components vs variance plot "
   ]
  },
  {
   "cell_type": "code",
   "execution_count": 5,
   "metadata": {},
   "outputs": [],
   "source": [
    "components = []\n",
    "var = []\n",
    "pca = PCA()\n",
    "X_train = pca.fit_transform(X_train)\n",
    "total = sum(pca.explained_variance_)\n",
    "k = 0\n",
    "c_v = 0\n",
    "c = 1\n",
    "var = [x*100 for x in var]"
   ]
  },
  {
   "cell_type": "code",
   "execution_count": 53,
   "metadata": {},
   "outputs": [
    {
     "data": {
      "image/png": "[encoded data removed]",
      "text/plain": [
       "<Figure size 432x288 with 1 Axes>"
      ]
     },
     "metadata": {
      "needs_background": "light"
     },
     "output_type": "display_data"
    }
   ],
   "source": [
    "while c_v/total < 1:\n",
    "    c_v += pca.explained_variance_[k]\n",
    "    k += 1\n",
    "    components.append(c)\n",
    "    c += 1\n",
    "    var.append(c_v/total)\n",
    "plt.plot(components, var, 'b--',label=\"Components required corres to variance\")\n",
    "plt.legend(loc='best')\n",
    "plt.axis([0, 100, 0, 1])\n",
    "plt.xlabel('Components retained')\n",
    "plt.ylabel('%age Variance retained')\n",
    "# plt.figure(figsize=(20,17))\n",
    "plt.show()"
   ]
  },
  {
   "cell_type": "markdown",
   "metadata": {},
   "source": [
    "#### Retaining 60% variance"
   ]
  },
  {
   "cell_type": "code",
   "execution_count": 6,
   "metadata": {
    "colab": {},
    "colab_type": "code",
    "id": "UD280CIHLBqg"
   },
   "outputs": [
    {
     "data": {
      "text/plain": [
       "8"
      ]
     },
     "execution_count": 6,
     "metadata": {},
     "output_type": "execute_result"
    }
   ],
   "source": [
    "pca = PCA()\n",
    "X_train = pca.fit_transform(X_train)\n",
    "total = sum(pca.explained_variance_)\n",
    "k = 0\n",
    "c_v = 0\n",
    "while c_v/total < .6:\n",
    "    c_v += pca.explained_variance_[k]\n",
    "    k += 1\n",
    "k"
   ]
  },
  {
   "cell_type": "markdown",
   "metadata": {},
   "source": [
    "## Transforming data by PCA"
   ]
  },
  {
   "cell_type": "code",
   "execution_count": 7,
   "metadata": {},
   "outputs": [],
   "source": [
    "pca = PCA(n_components=k)\n",
    "X_train = pca.fit_transform(X_train)\n",
    "X_test = pca.transform(X_test)"
   ]
  },
  {
   "cell_type": "markdown",
   "metadata": {},
   "source": [
    "# LinearSVC classifier on PCA processed data"
   ]
  },
  {
   "cell_type": "code",
   "execution_count": 56,
   "metadata": {},
   "outputs": [
    {
     "name": "stdout",
     "output_type": "stream",
     "text": [
      "              precision    recall  f1-score   support\n",
      "\n",
      "           0       0.11      0.89      0.19      1000\n",
      "           1       0.00      0.00      0.00      1000\n",
      "           2       0.13      0.03      0.04      1000\n",
      "           3       0.11      0.09      0.10      1000\n",
      "           4       1.00      0.00      0.00      1000\n",
      "           5       0.13      0.02      0.03      1000\n",
      "           6       1.00      0.00      0.00      1000\n",
      "           7       0.11      0.07      0.08      1000\n",
      "           8       1.00      0.00      0.00      1000\n",
      "           9       1.00      0.00      0.00      1000\n",
      "\n",
      "    accuracy                           0.11     10000\n",
      "   macro avg       0.46      0.11      0.04     10000\n",
      "weighted avg       0.46      0.11      0.04     10000\n",
      "\n"
     ]
    }
   ],
   "source": [
    "img_classifier = LinearSVC(dual=False,C=2)\n",
    "img_classifier.fit(X_train, Y_train)\n",
    "pl = img_classifier.predict(X_test)\n",
    "print(classification_report(Y_test,pl, zero_division=1))"
   ]
  },
  {
   "cell_type": "markdown",
   "metadata": {},
   "source": [
    "#### Classification report for C=2"
   ]
  },
  {
   "cell_type": "code",
   "execution_count": 57,
   "metadata": {},
   "outputs": [
    {
     "name": "stdout",
     "output_type": "stream",
     "text": [
      "              precision    recall  f1-score   support\n",
      "\n",
      "           0       0.11      0.89      0.19      1000\n",
      "           1       0.00      0.00      0.00      1000\n",
      "           2       0.13      0.03      0.04      1000\n",
      "           3       0.11      0.09      0.10      1000\n",
      "           4       1.00      0.00      0.00      1000\n",
      "           5       0.13      0.02      0.03      1000\n",
      "           6       1.00      0.00      0.00      1000\n",
      "           7       0.11      0.07      0.08      1000\n",
      "           8       1.00      0.00      0.00      1000\n",
      "           9       1.00      0.00      0.00      1000\n",
      "\n",
      "    accuracy                           0.11     10000\n",
      "   macro avg       0.46      0.11      0.04     10000\n",
      "weighted avg       0.46      0.11      0.04     10000\n",
      "\n"
     ]
    }
   ],
   "source": [
    "img_classifier = LinearSVC(dual=False,C=20)\n",
    "img_classifier.fit(X_train, Y_train)\n",
    "pl = img_classifier.predict(X_test)\n",
    "print(classification_report(Y_test,pl, zero_division=1))"
   ]
  },
  {
   "cell_type": "markdown",
   "metadata": {},
   "source": [
    "#### Classification report for C=20"
   ]
  },
  {
   "cell_type": "markdown",
   "metadata": {},
   "source": [
    "# SVC classifier without preprocessing"
   ]
  },
  {
   "cell_type": "code",
   "execution_count": null,
   "metadata": {},
   "outputs": [],
   "source": [
    "img_classifier = SVC(C=2,kernel='linear')\n",
    "img_classifier.fit(X_train, Y_train)\n",
    "pl = img_classifier.predict(X_test)\n",
    "print(classification_report(Y_test,pl, zero_division=1))"
   ]
  },
  {
   "cell_type": "markdown",
   "metadata": {},
   "source": [
    "#### Classification report for C=2"
   ]
  },
  {
   "cell_type": "code",
   "execution_count": null,
   "metadata": {},
   "outputs": [],
   "source": [
    "sup_vec = img_classifier.support_\n",
    "for point in sup_vec:\n",
    "    plt.imshow(Orig_img[point].reshape(32,32,3))"
   ]
  },
  {
   "cell_type": "markdown",
   "metadata": {},
   "source": [
    "# Stochastic Gradient Descent Linear SVM classifier with PCA processed data"
   ]
  },
  {
   "cell_type": "code",
   "execution_count": 11,
   "metadata": {
    "colab": {
     "base_uri": "https://localhost:8080/",
     "height": 187
    },
    "colab_type": "code",
    "id": "wH_fVnSwPuIF",
    "outputId": "700efd68-4aac-4876-8afe-054fe40fe307"
   },
   "outputs": [
    {
     "name": "stdout",
     "output_type": "stream",
     "text": [
      "              precision    recall  f1-score   support\n",
      "\n",
      "           0       0.12      0.74      0.20      1000\n",
      "           1       1.00      0.00      0.00      1000\n",
      "           2       1.00      0.00      0.00      1000\n",
      "           3       1.00      0.00      0.00      1000\n",
      "           4       1.00      0.00      0.00      1000\n",
      "           5       1.00      0.00      0.00      1000\n",
      "           6       1.00      0.00      0.00      1000\n",
      "           7       1.00      0.00      0.00      1000\n",
      "           8       0.08      0.29      0.13      1000\n",
      "           9       0.03      0.00      0.00      1000\n",
      "\n",
      "    accuracy                           0.10     10000\n",
      "   macro avg       0.72      0.10      0.03     10000\n",
      "weighted avg       0.72      0.10      0.03     10000\n",
      "\n"
     ]
    }
   ],
   "source": [
    "img_classifier = SGDClassifier(n_jobs=-1,alpha=100,max_iter=1000000)\n",
    "img_classifier.fit(X_train, Y_train)\n",
    "pl = img_classifier.predict(X_test)\n",
    "print(classification_report(Y_test,pl, zero_division=1))"
   ]
  },
  {
   "cell_type": "markdown",
   "metadata": {},
   "source": [
    "## K nearest neighbours"
   ]
  },
  {
   "cell_type": "code",
   "execution_count": 12,
   "metadata": {},
   "outputs": [],
   "source": [
    "import numpy as np\n",
    "import math\n",
    "\n",
    "class KNNClassifier:\n",
    "\n",
    "    def __init__(self, k_value=5):\n",
    "        self.k_parameter = k_value\n",
    "        self.data_arr = None\n",
    "        self.train_res = None\n",
    "\n",
    "    def train(self, dar, Y_col):\n",
    "        # self.data_arr = np.genfromtxt(train_dataframe_path, delimiter = ',')\n",
    "        self.data_arr = dar\n",
    "        self.train_res = Y_col\n",
    "#         self.data_arr = self.data_arr[:, 1:]\n",
    "\n",
    "    def predict(self, test_egs):\n",
    "        # test_egs = np.genfromtxt(test_dataframe_path, delimiter = ',')\n",
    "        prediction_list = []\n",
    "        for test_ind in range(test_egs.shape[0]):\n",
    "            lis = []\n",
    "            test_row = test_egs[test_ind,:]\n",
    "            hashmap = [0 for i in range(10)]\n",
    "            for train_ind in range(self.data_arr.shape[0]):\n",
    "                train_row = self.data_arr[train_ind,:]\n",
    "                diff = test_row - train_row\n",
    "                diff = diff*diff\n",
    "                dist = (diff.sum())\n",
    "                lis.append([dist, self.train_res[train_ind]])\n",
    "                lis = sorted(lis, key=lambda pair:pair[0])\n",
    "                lis = lis[0:self.k_parameter]\n",
    "            for pair in lis:\n",
    "                hashmap[int(pair[1])] += 1\n",
    "            maxval = hashmap[0]\n",
    "            ind = 0\n",
    "            for iter in range(1,10):\n",
    "                val = hashmap[iter]\n",
    "                if val > maxval:\n",
    "                    maxval = val\n",
    "                    ind = iter\n",
    "            prediction_list.append(ind)\n",
    "        return prediction_list"
   ]
  },
  {
   "cell_type": "markdown",
   "metadata": {},
   "source": [
    "### Load training data"
   ]
  },
  {
   "cell_type": "code",
   "execution_count": 13,
   "metadata": {
    "colab": {},
    "colab_type": "code",
    "id": "Jxt6axMZq8yP"
   },
   "outputs": [],
   "source": [
    "train_files = [\"data_batch_1\", \"data_batch_2\", \"data_batch_3\", \"data_batch_4\", \"data_batch_5\"]\n",
    "train_dicts = [0]*5\n",
    "Y_train = []\n",
    "for ind in range(len(train_dicts)):\n",
    "    train_dicts[ind] = unpickle(\"./Datasets/Question-1/cifar-10-python/cifar-10-batches-py/\"+train_files[ind])\n",
    "X_train= np.empty((0,3072))\n",
    "for ind in range(len(train_dicts)):\n",
    "    X_train = np.vstack((X_train, train_dicts[ind][b'data']))\n",
    "    Y_train.extend(train_dicts[ind][b'labels'])"
   ]
  },
  {
   "cell_type": "markdown",
   "metadata": {},
   "source": [
    "### Load testing data"
   ]
  },
  {
   "cell_type": "code",
   "execution_count": 16,
   "metadata": {
    "colab": {},
    "colab_type": "code",
    "id": "m4sql0PMw8pM"
   },
   "outputs": [],
   "source": [
    "# test_dict = unpickle(\"./Datasets/Question-1/cifar-10-python/cifar-10-batches-py/test_batch\")\n",
    "# X_test = test_dict[b'data']\n",
    "# Y_test = test_dict[b'labels']\n",
    "X_train, X_test , Y_train, Y_test = train_test_split(X_train, Y_train, train_size=.6)"
   ]
  },
  {
   "cell_type": "code",
   "execution_count": null,
   "metadata": {},
   "outputs": [],
   "source": [
    "kc = KNNClassifier()\n",
    "kc.train(X_train,Y_train)\n",
    "print(accuracy_score(Y_test, kc.predict(X_test)))"
   ]
  }
 ],
 "metadata": {
  "accelerator": "GPU",
  "colab": {
   "collapsed_sections": [],
   "name": "q1.ipynb",
   "provenance": []
  },
  "kernelspec": {
   "display_name": "Python 3",
   "language": "python",
   "name": "python3"
  },
  "language_info": {
   "codemirror_mode": {
    "name": "ipython",
    "version": 3
   },
   "file_extension": ".py",
   "mimetype": "text/x-python",
   "name": "python",
   "nbconvert_exporter": "python",
   "pygments_lexer": "ipython3",
   "version": "3.7.5"
  }
 },
 "nbformat": 4,
 "nbformat_minor": 1
}
