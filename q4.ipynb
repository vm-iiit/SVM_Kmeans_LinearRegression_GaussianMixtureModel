{
 "cells": [
  {
   "cell_type": "code",
   "execution_count": 1,
   "metadata": {
    "colab": {},
    "colab_type": "code",
    "id": "LiHaK-l1UBpN"
   },
   "outputs": [],
   "source": [
    "from sklearn.metrics import r2_score\n",
    "import numpy as np\n",
    "import pandas as pd\n",
    "from sklearn.model_selection import train_test_split\n",
    "from sklearn.preprocessing import OneHotEncoder\n",
    "from sklearn.preprocessing import LabelEncoder\n",
    "import matplotlib.pyplot as plt"
   ]
  },
  {
   "cell_type": "markdown",
   "metadata": {},
   "source": [
    "### Mean square error cost function with regularization"
   ]
  },
  {
   "cell_type": "code",
   "execution_count": 2,
   "metadata": {
    "colab": {},
    "colab_type": "code",
    "id": "ivLXp3QkUD1r"
   },
   "outputs": [
    {
     "name": "stdout",
     "output_type": "stream",
     "text": [
      "0.9840600116332273\n"
     ]
    }
   ],
   "source": [
    "errs = []\n",
    "its = []\n",
    "\n",
    "class Weather:\n",
    "    def __init__(self, iters=1000, alpha=0.000006, reg_param=1):\n",
    "        self.thetas=[]\n",
    "        self.iters = iters\n",
    "        self.alpha = alpha\n",
    "        self.reg_param = reg_param\n",
    "\n",
    "    def clean(self, dfpath):\n",
    "        df = pd.read_csv(dfpath)\n",
    "        df.drop(columns=['Formatted Date', 'Daily Summary'], inplace=True)\n",
    "        of = df['Apparent Temperature (C)'].to_numpy().copy()\n",
    "        df.drop(columns=['Apparent Temperature (C)'], inplace=True)\n",
    "        df.fillna(value=\"nothing\", inplace=True)\n",
    "        df = pd.get_dummies(df, columns=['Summary', 'Precip Type'])\n",
    "#         print(df)\n",
    "        df['Apparent Temperature (C)'] = of\n",
    "        return df.to_numpy().copy()\n",
    "\n",
    "\n",
    "    def normalize(self, array):\n",
    "        c = array.shape[1]\n",
    "        for ind in range(c):\n",
    "            col = array[:,ind]\n",
    "            array[:,ind] = (col - col.min())/(col.max() - col.min())\n",
    "#         print(\"fin arr\")\n",
    "        # print(array)\n",
    "        return array\n",
    "\n",
    "    def train(self, trainpath):\n",
    "        train_data = self.clean(trainpath)\n",
    "        # np.random.shuffle(train_data)\n",
    "        X_part = train_data[:,0:-1]\n",
    "        Y_part = train_data[:,-1]\n",
    "        X_part = self.normalize(X_part)\n",
    "        X_part = np.hstack((X_part, np.ones((X_part.shape[0], 1))))\n",
    "        # print(X_part)\n",
    "        x_train, self.x_test, y_train, self.y_test = train_test_split(X_part, Y_part, train_size=0.7)\n",
    "        self.thetas = np.random.rand(X_part.shape[1], 1)\n",
    "        # print(\"thetas\")\n",
    "        # print(self.thetas)\n",
    "        # print(x_sums.shape)\n",
    "        samples = x_train.shape[0]\n",
    "        y_train = y_train.reshape((-1,1))\n",
    "        xt = x_train.transpose()\n",
    "        for it in range(self.iters):\n",
    "            y_temp = np.dot(x_train, self.thetas)\n",
    "            err = np.subtract(y_temp, y_train)\n",
    "            \n",
    "            cost = ((np.square(err)).sum() + self.reg_param*(np.square(self.thetas).sum()))/(2*samples)\n",
    "            errs.append(cost)\n",
    "            its.append(it+1)\n",
    "#             print(\"iter \"+str(it+1)+\" cost = \"+str(cost))\n",
    "            temp = np.dot(xt, err)\n",
    "            temp = temp.reshape((-1,1))\n",
    "            self.thetas *= (1 - (self.alpha*self.reg_param)/samples)\n",
    "            self.thetas -= self.alpha*temp\n",
    "\n",
    "    \n",
    "    def predict(self, testpath):\n",
    "        # test_data = np.genfromtxt(trainpath, delimiter=',')\n",
    "        # X_part = test_data[:,0:-1]\n",
    "        # Y_part = test_data[:,-1]\n",
    "        # X_part = self.normalize(X_part)\n",
    "        # X_part = np.hstack((X_part, np.ones((X_part.shape[0], 1))))\n",
    "        preds = np.dot(self.x_test, self.thetas)\n",
    "#         print(\"score\")\n",
    "        print(r2_score(self.y_test, preds))\n",
    "        rs = r2_score(self.y_test, preds)\n",
    "        return preds\n",
    "\n",
    "\n",
    "model4 = Weather()\n",
    "model4.train('./Datasets/Question-4/train.csv') # Path to the train.csv will be provided \n",
    "prediction4 = model4.predict('./Datasets/Question-4/test.csv')\n"
   ]
  },
  {
   "cell_type": "markdown",
   "metadata": {},
   "source": [
    "^ R2 score with mean square error cost function"
   ]
  },
  {
   "cell_type": "markdown",
   "metadata": {},
   "source": [
    "### Mean absolute error cost function"
   ]
  },
  {
   "cell_type": "code",
   "execution_count": 4,
   "metadata": {
    "scrolled": false
   },
   "outputs": [
    {
     "name": "stdout",
     "output_type": "stream",
     "text": [
      "0.10967006069782081\n"
     ]
    }
   ],
   "source": [
    "errs2=[]\n",
    "\n",
    "class Weather2:\n",
    "    def __init__(self, iters=1000, alpha=0.02, reg_param=0):\n",
    "        self.thetas=[]\n",
    "        self.iters = iters\n",
    "        self.alpha = alpha\n",
    "        self.reg_param = reg_param\n",
    "\n",
    "    def clean(self, dfpath):\n",
    "        df = pd.read_csv(dfpath)\n",
    "        df.drop(columns=['Formatted Date', 'Daily Summary'], inplace=True)\n",
    "        of = df['Apparent Temperature (C)'].to_numpy().copy()\n",
    "        df.drop(columns=['Apparent Temperature (C)'], inplace=True)\n",
    "        df.fillna(value=\"nothing\", inplace=True)\n",
    "        df = pd.get_dummies(df, columns=['Summary', 'Precip Type'])\n",
    "#         print(df)\n",
    "        df['Apparent Temperature (C)'] = of\n",
    "        return df.to_numpy().copy()\n",
    "\n",
    "\n",
    "    def normalize(self, array):\n",
    "        c = array.shape[1]\n",
    "        for ind in range(c):\n",
    "            col = array[:,ind]\n",
    "            array[:,ind] = (col - col.min())/(col.max() - col.min())\n",
    "#         print(\"fin arr\")\n",
    "        # print(array)\n",
    "        return array\n",
    "\n",
    "    def train(self, trainpath):\n",
    "        train_data = self.clean(trainpath)\n",
    "        # np.random.shuffle(train_data)\n",
    "        X_part = train_data[:,0:-1]\n",
    "        Y_part = train_data[:,-1]\n",
    "        X_part = self.normalize(X_part)\n",
    "        X_part = np.hstack((X_part, np.ones((X_part.shape[0], 1))))\n",
    "        # print(X_part)\n",
    "        x_train, self.x_test, y_train, self.y_test = train_test_split(X_part, Y_part, train_size=0.7)\n",
    "        self.thetas = np.random.rand(X_part.shape[1], 1)\n",
    "        # print(\"thetas\")\n",
    "        # print(self.thetas)\n",
    "        # print(x_sums.shape)\n",
    "        samples = x_train.shape[0]\n",
    "        y_train = y_train.reshape((-1,1))\n",
    "        xt = x_train.transpose()\n",
    "        t = np.sum(xt, axis=1,keepdims=True)/samples\n",
    "        for it in range(self.iters):\n",
    "            y_temp = np.dot(x_train, self.thetas)\n",
    "            err = np.subtract(y_temp, y_train)\n",
    "            terr = err.sum()\n",
    "            if terr > 0:\n",
    "                terr = 1\n",
    "            else:\n",
    "                terr = -1\n",
    "            err = np.absolute(err).sum()/(2*samples)\n",
    "            errs2.append(err)\n",
    "            cost = ((np.absolute(err)).sum() + self.reg_param*(np.square(self.thetas).sum()))/(2*samples)\n",
    "#             print(\"iter \"+str(it+1)+\" cost = \"+str(err))\n",
    "#             print(err)\n",
    "            temp = np.dot(xt, err)\n",
    "            temp = temp.reshape((-1,1))\n",
    "#             print(\"xt shape\")\n",
    "#             print(xt.shape)\n",
    "            \n",
    "#             print(t)\n",
    "#             print(()/(samples))\n",
    "            self.thetas -= terr*(self.alpha*t)\n",
    "#             self.thetas *= (1 - (self.alpha*self.reg_param)/samples)\n",
    "#             self.thetas -= self.alpha*temp\n",
    "\n",
    "    \n",
    "    def predict(self, testpath):\n",
    "        # test_data = np.genfromtxt(trainpath, delimiter=',')\n",
    "        # X_part = test_data[:,0:-1]\n",
    "        # Y_part = test_data[:,-1]\n",
    "        # X_part = self.normalize(X_part)\n",
    "        # X_part = np.hstack((X_part, np.ones((X_part.shape[0], 1))))\n",
    "        preds = np.dot(self.x_test, self.thetas)\n",
    "#         print(\"score\")\n",
    "        print(r2_score(self.y_test, preds))\n",
    "        rs = r2_score(self.y_test, preds)\n",
    "        return preds\n",
    "\n",
    "\n",
    "model4 = Weather2()\n",
    "model4.train('./Datasets/Question-4/train.csv') # Path to the train.csv will be provided \n",
    "prediction4 = model4.predict('./Datasets/Question-4/test.csv')\n"
   ]
  },
  {
   "cell_type": "markdown",
   "metadata": {},
   "source": [
    "^ R2 score with mean absolute error cost function"
   ]
  },
  {
   "cell_type": "code",
   "execution_count": 7,
   "metadata": {},
   "outputs": [
    {
     "data": {
      "image/png": "[encoded data removed]",
      "text/plain": [
       "<Figure size 432x288 with 1 Axes>"
      ]
     },
     "metadata": {
      "needs_background": "light"
     },
     "output_type": "display_data"
    },
    {
     "data": {
      "text/plain": [
       "<Figure size 1440x1224 with 0 Axes>"
      ]
     },
     "metadata": {},
     "output_type": "display_data"
    }
   ],
   "source": [
    "plt.plot(its, errs, 'r--', label=\"Mean squared error\")\n",
    "plt.plot(its, errs2, 'g*', label=\"Mean absolute error\")\n",
    "plt.legend(loc='best')\n",
    "plt.axis([0, 1001, 0, 50])\n",
    "plt.xlabel('iterations')\n",
    "plt.ylabel('cost')\n",
    "plt.figure(figsize=(20,17))\n",
    "plt.show()\n"
   ]
  },
  {
   "cell_type": "code",
   "execution_count": null,
   "metadata": {},
   "outputs": [],
   "source": []
  }
 ],
 "metadata": {
  "colab": {
   "collapsed_sections": [],
   "name": "q4ipynb",
   "provenance": []
  },
  "kernelspec": {
   "display_name": "Python 3",
   "language": "python",
   "name": "python3"
  },
  "language_info": {
   "codemirror_mode": {
    "name": "ipython",
    "version": 3
   },
   "file_extension": ".py",
   "mimetype": "text/x-python",
   "name": "python",
   "nbconvert_exporter": "python",
   "pygments_lexer": "ipython3",
   "version": "3.7.5"
  }
 },
 "nbformat": 4,
 "nbformat_minor": 1
}
